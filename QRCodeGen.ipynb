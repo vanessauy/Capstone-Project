{
 "cells": [
  {
   "cell_type": "code",
   "execution_count": 24,
   "id": "3acce386-42cd-4055-bc49-f2e138ec6857",
   "metadata": {},
   "outputs": [
    {
     "name": "stdout",
     "output_type": "stream",
     "text": [
      "MA==\n"
     ]
    }
   ],
   "source": [
    "#generates QR code\n",
    "def codeGen():\n",
    "    import qrcode, base64\n",
    "\n",
    "    idNumber = 1\n",
    "    \n",
    "    message = str(idNumber)\n",
    "    message_bytes = message.encode('ascii')\n",
    "    base64_bytes = base64.b64encode(message_bytes)\n",
    "    base64_message = base64_bytes.decode('ascii')\n",
    "\n",
    "    data = base64_message\n",
    "    filename = 'code.png'\n",
    "    img = qrcode.make(data)\n",
    "    img.save(filename)"
   ]
  }
 ],
 "metadata": {
  "kernelspec": {
   "display_name": "Python 3 (ipykernel)",
   "language": "python",
   "name": "python3"
  },
  "language_info": {
   "codemirror_mode": {
    "name": "ipython",
    "version": 3
   },
   "file_extension": ".py",
   "mimetype": "text/x-python",
   "name": "python",
   "nbconvert_exporter": "python",
   "pygments_lexer": "ipython3",
   "version": "3.9.12"
  }
 },
 "nbformat": 4,
 "nbformat_minor": 5
}
